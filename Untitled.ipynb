{
 "cells": [
  {
   "cell_type": "code",
   "execution_count": null,
   "id": "ab6ec84d",
   "metadata": {},
   "outputs": [],
   "source": [
    "from tkinter import Tk\n",
    "from gui import SearchApp\n",
    "import multiprocessing\n",
    "import app  # app 모듈을 임포트\n",
    "\n",
    "def run_flask_app():\n",
    "    app.app.run(debug=True, use_reloader=False)\n",
    "\n",
    "def main():\n",
    "    # Flask 서버를 별도의 프로세스에서 실행\n",
    "    flask_process = multiprocessing.Process(target=run_flask_app)\n",
    "    flask_process.start()\n",
    "\n",
    "    # Tkinter 애플리케이션 실행\n",
    "    root = Tk()\n",
    "    app = SearchApp(root)\n",
    "    root.protocol(\"WM_DELETE_WINDOW\", app.on_closing)\n",
    "    root.mainloop()\n",
    "\n",
    "    # Tkinter GUI가 종료되면 Flask 서버 프로세스도 종료\n",
    "    flask_process.terminate()\n",
    "\n",
    "if __name__ == \"__main__\":\n",
    "    main()"
   ]
  },
  {
   "cell_type": "code",
   "execution_count": null,
   "id": "2169185b",
   "metadata": {},
   "outputs": [],
   "source": []
  }
 ],
 "metadata": {
  "kernelspec": {
   "display_name": "Python 3 (ipykernel)",
   "language": "python",
   "name": "python3"
  },
  "language_info": {
   "codemirror_mode": {
    "name": "ipython",
    "version": 3
   },
   "file_extension": ".py",
   "mimetype": "text/x-python",
   "name": "python",
   "nbconvert_exporter": "python",
   "pygments_lexer": "ipython3",
   "version": "3.7.1"
  }
 },
 "nbformat": 4,
 "nbformat_minor": 5
}
